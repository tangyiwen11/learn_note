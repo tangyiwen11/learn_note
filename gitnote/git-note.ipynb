{
 "cells": [
  {
   "cell_type": "markdown",
   "id": "2ef5f0a4",
   "metadata": {},
   "source": [
    "## git note\n",
    "\n",
    "廖雪峰git教程\n",
    "https://www.liaoxuefeng.com/wiki/896043488029600\n",
    "\n",
    "目前最先进的分布式版本控制系统， 用C写的\n",
    "\n",
    "- 版本控制系统<br>\n",
    "自动记录每次文件改动，并允许同事协作编辑；避免冗余保存<br>\n",
    "只跟踪文本文件的改动，txt、网页、程序代码等\n",
    "\n",
    "- 分布式<br>\n",
    "CVS， SVN 是集中式分布；版本库存在于中央服务器；<br>\n",
    "分布式版本控制系统：没有中央服务器，每人电脑一个完整版本库(repository)，不需联网，只推送修改"
   ]
  },
  {
   "cell_type": "markdown",
   "id": "0d63dfe6",
   "metadata": {},
   "source": [
    "- 安装 Xcode -> preference -> locations -> command line tools 即安装完成\n",
    "\n",
    "- 创建版本库<br>\n",
    "mkdir filename<br>\n",
    "cd filename<br>\n",
    "git init<br> \n",
    "ls -ah (查看隐藏目录 .git)\n",
    "\n",
    "- 添加文件<br>\n",
    "git add filename (可反复多次使用，添加多个文件)<br>\n",
    "git commit -m message_information （一次提交多个文件）\n",
    "\n",
    "- 掌握仓库状态 git status\n",
    "- 查看修改内容 git diff filename\n",
    "- 添加修改文件 如添加新文件\n",
    "\n",
    "- 获取日志信息<br>\n",
    "git log<br>\n",
    "git log --pretty=online\n",
    "\n",
    "- 回溯版本\n",
    "git reset --hard HEAD/HEAD^/...<br>\n",
    "git reset --hard part_of_the_commit_id\n",
    "\n",
    "cat filename\n",
    "git reflog"
   ]
  },
  {
   "cell_type": "markdown",
   "id": "ac73df9c-95ab-43e4-a77f-7a1c8e05c413",
   "metadata": {},
   "source": [
    "##### 远程仓库 github\n",
    "\n",
    "- 本地到github\n",
    "\n",
    "git remote add origin git@github.com:tangyiwen11/repo-name.git<br>\n",
    "git push -u origin master<br>\n",
    "git push origin master<br>\n",
    "\n",
    "- github到本地\n",
    "git colon git@github.com:tangyiwen11/repo-name.git<br>"
   ]
  },
  {
   "cell_type": "markdown",
   "id": "763c3cfd-78ba-41ab-b3a5-263d1ed68c16",
   "metadata": {},
   "source": [
    "##### 分支\n",
    "\n",
    "- 创建分支<br>\n",
    "git checkout -b branch_name <br>\n",
    "=<br>\n",
    "git branch branch_name<br>\n",
    "git checkout branch_name<br>\n",
    "=<br>\n",
    "git switch -c branch_name\n",
    "\n",
    "- 查看当前分支<br>\n",
    "git branch <br>\n",
    "git checkout master\n",
    "\n",
    "\n",
    "- 删除分支<br>\n",
    "git branch -d branch_name\n",
    "\n",
    "- 合并分支<br>\n",
    "git merge branch_name\n",
    "\n",
    "git log --graph\n",
    "\n",
    "合并分支时，加上--no-ff参数就可以用普通模式合并，合并后的历史有分支，能看出来曾经做过合并，而fast forward合并就看不出来曾经做过合并。<br>\n",
    "git merge --no-ff -m \"merge with no-ff\" branch_name"
   ]
  },
  {
   "cell_type": "code",
   "execution_count": null,
   "id": "1844df50-40d1-4320-a676-6c3e3b30b3fb",
   "metadata": {},
   "outputs": [],
   "source": []
  }
 ],
 "metadata": {
  "kernelspec": {
   "display_name": "Python 3 (ipykernel)",
   "language": "python",
   "name": "python3"
  },
  "language_info": {
   "codemirror_mode": {
    "name": "ipython",
    "version": 3
   },
   "file_extension": ".py",
   "mimetype": "text/x-python",
   "name": "python",
   "nbconvert_exporter": "python",
   "pygments_lexer": "ipython3",
   "version": "3.9.12"
  }
 },
 "nbformat": 4,
 "nbformat_minor": 5
}
